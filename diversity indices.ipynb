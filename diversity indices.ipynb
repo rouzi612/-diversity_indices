{
 "cells": [
  {
   "cell_type": "code",
   "execution_count": 1,
   "metadata": {},
   "outputs": [],
   "source": [
    "import pandas as pd\n",
    "import numpy as np"
   ]
  },
  {
   "cell_type": "code",
   "execution_count": 11,
   "metadata": {},
   "outputs": [],
   "source": [
    "data = {'Species':['Sea holly', \"Sand couch\",\"Sea bindweed\",\"Sporobolus pungens\",\"Echinophora spinosa\"],\n",
    "'community1':[2,8,1,1,3],\n",
    "'community2':[3,5,4,6,3],\n",
    "'community3':[0,0,2,5,7]}\n",
    "data = pd.DataFrame(data)"
   ]
  },
  {
   "cell_type": "code",
   "execution_count": 12,
   "metadata": {},
   "outputs": [
    {
     "data": {
      "text/html": [
       "<div>\n",
       "<style scoped>\n",
       "    .dataframe tbody tr th:only-of-type {\n",
       "        vertical-align: middle;\n",
       "    }\n",
       "\n",
       "    .dataframe tbody tr th {\n",
       "        vertical-align: top;\n",
       "    }\n",
       "\n",
       "    .dataframe thead th {\n",
       "        text-align: right;\n",
       "    }\n",
       "</style>\n",
       "<table border=\"1\" class=\"dataframe\">\n",
       "  <thead>\n",
       "    <tr style=\"text-align: right;\">\n",
       "      <th></th>\n",
       "      <th>Species</th>\n",
       "      <th>community1</th>\n",
       "      <th>community2</th>\n",
       "      <th>community3</th>\n",
       "    </tr>\n",
       "  </thead>\n",
       "  <tbody>\n",
       "    <tr>\n",
       "      <th>0</th>\n",
       "      <td>Sea holly</td>\n",
       "      <td>2</td>\n",
       "      <td>3</td>\n",
       "      <td>0</td>\n",
       "    </tr>\n",
       "    <tr>\n",
       "      <th>1</th>\n",
       "      <td>Sand couch</td>\n",
       "      <td>8</td>\n",
       "      <td>5</td>\n",
       "      <td>0</td>\n",
       "    </tr>\n",
       "    <tr>\n",
       "      <th>2</th>\n",
       "      <td>Sea bindweed</td>\n",
       "      <td>1</td>\n",
       "      <td>4</td>\n",
       "      <td>2</td>\n",
       "    </tr>\n",
       "    <tr>\n",
       "      <th>3</th>\n",
       "      <td>Sporobolus pungens</td>\n",
       "      <td>1</td>\n",
       "      <td>6</td>\n",
       "      <td>5</td>\n",
       "    </tr>\n",
       "    <tr>\n",
       "      <th>4</th>\n",
       "      <td>Echinophora spinosa</td>\n",
       "      <td>3</td>\n",
       "      <td>3</td>\n",
       "      <td>7</td>\n",
       "    </tr>\n",
       "  </tbody>\n",
       "</table>\n",
       "</div>"
      ],
      "text/plain": [
       "               Species  community1  community2  community3\n",
       "0            Sea holly           2           3           0\n",
       "1           Sand couch           8           5           0\n",
       "2         Sea bindweed           1           4           2\n",
       "3   Sporobolus pungens           1           6           5\n",
       "4  Echinophora spinosa           3           3           7"
      ]
     },
     "execution_count": 12,
     "metadata": {},
     "output_type": "execute_result"
    }
   ],
   "source": [
    "data"
   ]
  },
  {
   "cell_type": "code",
   "execution_count": 13,
   "metadata": {},
   "outputs": [
    {
     "data": {
      "text/plain": [
       "community1    8.5\n",
       "community2    1.7\n",
       "community3    9.7\n",
       "dtype: float64"
      ]
     },
     "execution_count": 13,
     "metadata": {},
     "output_type": "execute_result"
    }
   ],
   "source": [
    "data.var()"
   ]
  },
  {
   "cell_type": "code",
   "execution_count": 5,
   "metadata": {},
   "outputs": [],
   "source": [
    "def SimpsonD(var):\n",
    "    # assumptions: The Simpson index is a dominance index because it gives more weight to common or dominant species.\n",
    "    # when a few rare species with only a few representatives will not affect the diversity. \n",
    "    \n",
    "    # formula: D = 1 - (sum(n*(n-1))/N(N-1))\n",
    "    # N: the total number of cases of all categories \n",
    "    N = sum(var) \n",
    "    top = [(n*(n-1)) for n in var]\n",
    "    D = round(1- sum(top)/(N*(N-1)),1)\n",
    "    return D\n",
    "\n",
    "\n",
    "    "
   ]
  },
  {
   "cell_type": "code",
   "execution_count": 30,
   "metadata": {},
   "outputs": [
    {
     "data": {
      "text/plain": [
       "community1    0.7\n",
       "community2    0.8\n",
       "community3    0.6\n",
       "dtype: float64"
      ]
     },
     "execution_count": 30,
     "metadata": {},
     "output_type": "execute_result"
    }
   ],
   "source": [
    "data[['community1','community2','community3']].apply(SimpsonD) # the closer to 1, the more diverse the community\n"
   ]
  },
  {
   "cell_type": "code",
   "execution_count": 9,
   "metadata": {},
   "outputs": [],
   "source": [
    "\n",
    "def ShannonH(var):\n",
    "    # assumption: s it assumes all species are represented in a sample and that they are randomly sampled.\n",
    "    # formula: HREL = -sum(f/N * log_2 (f/N))\n",
    "    # f_i = the number of cases in the ith category\n",
    "    # N = the number of cases in a sample\n",
    "    N = sum(var)\n",
    "    p = [n/N for n in var] # the proportion (n/N) of individuals of one particular species found (n) divided by the total number of individuals found (N)\n",
    "    H = round(-sum(p * np.log2(p)),1)\n",
    "    return H\n",
    "    \n"
   ]
  },
  {
   "cell_type": "code",
   "execution_count": 31,
   "metadata": {},
   "outputs": [
    {
     "name": "stderr",
     "output_type": "stream",
     "text": [
      "C:\\Program Files (x86)\\Python36-32\\lib\\site-packages\\ipykernel_launcher.py:8: RuntimeWarning: divide by zero encountered in log2\n",
      "  \n",
      "C:\\Program Files (x86)\\Python36-32\\lib\\site-packages\\ipykernel_launcher.py:8: RuntimeWarning: invalid value encountered in multiply\n",
      "  \n"
     ]
    },
    {
     "data": {
      "text/plain": [
       "community1    1.9\n",
       "community2    2.3\n",
       "community3    NaN\n",
       "dtype: float64"
      ]
     },
     "execution_count": 31,
     "metadata": {},
     "output_type": "execute_result"
    }
   ],
   "source": [
    "data[['community1','community2','community3']].apply(ShannonH)# the higher the number, the more diverse the community\n",
    "# the problem with this metirc is that the rare case will impact the overall diversty score."
   ]
  }
 ],
 "metadata": {
  "interpreter": {
   "hash": "e54ed84f84407490689b4f5b6b5f659e4528824f1b5194fa37e2daa8c8e1c1a7"
  },
  "kernelspec": {
   "display_name": "Python 3.6.4 32-bit",
   "language": "python",
   "name": "python3"
  },
  "language_info": {
   "codemirror_mode": {
    "name": "ipython",
    "version": 3
   },
   "file_extension": ".py",
   "mimetype": "text/x-python",
   "name": "python",
   "nbconvert_exporter": "python",
   "pygments_lexer": "ipython3",
   "version": "3.6.4"
  },
  "orig_nbformat": 4
 },
 "nbformat": 4,
 "nbformat_minor": 2
}
